{
 "cells": [
  {
   "cell_type": "code",
   "execution_count": 477,
   "id": "4eba9882",
   "metadata": {},
   "outputs": [],
   "source": [
    "import psycopg2\n",
    "import pandas as pd"
   ]
  },
  {
   "cell_type": "markdown",
   "id": "2869b1f8",
   "metadata": {},
   "source": [
    "# Conecta com o banco de dados"
   ]
  },
  {
   "cell_type": "code",
   "execution_count": 478,
   "id": "e3734070",
   "metadata": {},
   "outputs": [],
   "source": [
    "conn = psycopg2.connect(\n",
    "    dbname='postgres',\n",
    "    user='postgres',\n",
    "    password='1001',\n",
    "    host='localhost',\n",
    "    port='5432'\n",
    ")"
   ]
  },
  {
   "cell_type": "markdown",
   "id": "bf6fec9c",
   "metadata": {},
   "source": [
    "# Cria o cursor"
   ]
  },
  {
   "cell_type": "code",
   "execution_count": 479,
   "id": "c32bbbb2",
   "metadata": {},
   "outputs": [],
   "source": [
    "\n",
    "cursor = conn.cursor()"
   ]
  },
  {
   "cell_type": "markdown",
   "id": "404b76dc",
   "metadata": {},
   "source": [
    "# Cria tabela no db"
   ]
  },
  {
   "cell_type": "code",
   "execution_count": 480,
   "id": "e42e718b",
   "metadata": {},
   "outputs": [
    {
     "name": "stdout",
     "output_type": "stream",
     "text": [
      "Tabela recriada do zero!\n"
     ]
    }
   ],
   "source": [
    "# Cria tabela no db\n",
    "try:\n",
    "    cursor.execute(\"\"\"\n",
    "                \n",
    "-- Drop existing tables if they exist (optional, for clean runs)\n",
    "-- Use with caution, this will delete all data!\n",
    "DROP TABLE IF EXISTS COUNTRY CASCADE;\n",
    "DROP TABLE IF EXISTS SURVEY CASCADE;\n",
    "DROP TABLE IF EXISTS REGION CASCADE; -- Typo matches schema\n",
    "DROP TABLE IF EXISTS DEMOGRAPHY CASCADE;\n",
    "DROP TABLE IF EXISTS HEALTH CASCADE;\n",
    "DROP TABLE IF EXISTS EDUCATION CASCADE;\n",
    "DROP TABLE IF EXISTS ECONOMY CASCADE;\n",
    "DROP TABLE IF EXISTS POPULATION CASCADE;\n",
    "DROP TABLE IF EXISTS EMPLOYMENT CASCADE;\n",
    "DROP TABLE IF EXISTS LIFE_EXPECTANCY CASCADE;\n",
    "DROP TABLE IF EXISTS DECILE CASCADE;\n",
    "\n",
    "\n",
    "CREATE TABLE IF NOT EXISTS public.country\n",
    "(\n",
    "    country_code character varying NOT NULL,\n",
    "    country_name character varying,\n",
    "    region_code character varying NOT NULL,\n",
    "    PRIMARY KEY (country_code)\n",
    ");\n",
    "\n",
    "CREATE TABLE IF NOT EXISTS public.survey\n",
    "(\n",
    "    id_survey serial NOT NULL,\n",
    "    country_code character varying NOT NULL,\n",
    "    welfare_type character varying,\n",
    "    survey_acronym character varying,\n",
    "    survey_comparability integer,\n",
    "    comparable_spell character varying,\n",
    "    poverty_line double precision,\n",
    "    headcount double precision,\n",
    "    poverty_gap double precision,\n",
    "    poverty_severity double precision,\n",
    "    gini double precision,\n",
    "    reporting_pop integer,\n",
    "    reporting_pce double precision,\n",
    "    distribution_type character varying,\n",
    "    spl double precision,\n",
    "    survey_year integer,\n",
    "    survey_coverage character varying,\n",
    "    reporting_level character varying,\n",
    "    PRIMARY KEY (id_survey)\n",
    ");\n",
    "\n",
    "CREATE TABLE IF NOT EXISTS public.region\n",
    "(\n",
    "    region_code character varying NOT NULL,\n",
    "    region_name character varying NOT NULL,\n",
    "    PRIMARY KEY (region_code)\n",
    ");\n",
    "\n",
    "CREATE TABLE IF NOT EXISTS public.decile\n",
    "(\n",
    "    id_decile serial NOT NULL,\n",
    "    value double precision,\n",
    "    name character varying,\n",
    "    id_survey integer NOT NULL,\n",
    "    PRIMARY KEY (id_decile)\n",
    ");\n",
    "\n",
    "CREATE TABLE IF NOT EXISTS public.demography\n",
    "(\n",
    "    id_demography serial NOT NULL,\n",
    "    year integer,\n",
    "    country_code character varying NOT NULL,\n",
    "    pop_density double precision,\n",
    "    urban_pop double precision,\n",
    "    rural_pop double precision,\n",
    "    net_migration double precision,\n",
    "    death_rate double precision,\n",
    "    birth_rate double precision,\n",
    "    PRIMARY KEY (id_demography)\n",
    ");\n",
    "\n",
    "CREATE TABLE IF NOT EXISTS public.employment\n",
    "(\n",
    "    id_employment serial NOT NULL,\n",
    "    year integer,\n",
    "    country_code character varying NOT NULL,\n",
    "    child_emp double precision,\n",
    "    unemp double precision,\n",
    "    vulnerable_emp double precision,\n",
    "    part_time double precision,\n",
    "    employers double precision,\n",
    "    labor_force_total double precision,\n",
    "    labor_force_fem double precision,\n",
    "    PRIMARY KEY (id_employment)\n",
    ");\n",
    "\n",
    "CREATE TABLE IF NOT EXISTS public.education\n",
    "(\n",
    "    id_education serial NOT NULL,\n",
    "    year integer,\n",
    "    country_code character varying NOT NULL,\n",
    "    child_out_of_school double precision,\n",
    "    progression_to_sec double precision,\n",
    "    expenditure double precision,\n",
    "    preprim_enroll double precision,\n",
    "    prim_enrol double precision,\n",
    "    sec_enrol double precision,\n",
    "    terti_enrol double precision,\n",
    "    PRIMARY KEY (id_education)\n",
    ");\n",
    "\n",
    "CREATE TABLE IF NOT EXISTS public.economy\n",
    "(\n",
    "    id_economy serial NOT NULL,\n",
    "    year integer,\n",
    "    country_code character varying NOT NULL,\n",
    "    gdp double precision,\n",
    "    inflation double precision,\n",
    "    tax_revenue double precision,\n",
    "    PRIMARY KEY (id_economy)\n",
    ");\n",
    "\n",
    "CREATE TABLE IF NOT EXISTS public.population\n",
    "(\n",
    "    id_population serial NOT NULL,\n",
    "    id_demography integer NOT NULL,\n",
    "    pop_ages character varying,\n",
    "    gender character varying,\n",
    "    \"number\" double precision,\n",
    "    PRIMARY KEY (id_population)\n",
    ");\n",
    "\n",
    "CREATE TABLE IF NOT EXISTS public.life_expectancy\n",
    "(\n",
    "    id_life_expectancy serial NOT NULL,\n",
    "    id_demography integer NOT NULL,\n",
    "    gender character varying,\n",
    "    value double precision,\n",
    "    PRIMARY KEY (id_life_expectancy)\n",
    ");\n",
    "\n",
    "CREATE TABLE IF NOT EXISTS public.health\n",
    "(\n",
    "    id_health serial NOT NULL,\n",
    "    country_code character varying NOT NULL,\n",
    "    year integer,\n",
    "    hospital_beds double precision,\n",
    "    physicians double precision,\n",
    "    expenditure double precision,\n",
    "    PRIMARY KEY (id_health)\n",
    ");\n",
    "\n",
    "ALTER TABLE IF EXISTS public.country\n",
    "    ADD FOREIGN KEY (region_code)\n",
    "    REFERENCES public.region (region_code) MATCH SIMPLE\n",
    "    ON UPDATE NO ACTION\n",
    "    ON DELETE NO ACTION\n",
    "    NOT VALID;\n",
    "\n",
    "\n",
    "ALTER TABLE IF EXISTS public.survey\n",
    "    ADD FOREIGN KEY (country_code)\n",
    "    REFERENCES public.country (country_code) MATCH SIMPLE\n",
    "    ON UPDATE NO ACTION\n",
    "    ON DELETE NO ACTION\n",
    "    NOT VALID;\n",
    "\n",
    "\n",
    "ALTER TABLE IF EXISTS public.decile\n",
    "    ADD FOREIGN KEY (id_survey)\n",
    "    REFERENCES public.survey (id_survey) MATCH SIMPLE\n",
    "    ON UPDATE NO ACTION\n",
    "    ON DELETE NO ACTION\n",
    "    NOT VALID;\n",
    "\n",
    "\n",
    "ALTER TABLE IF EXISTS public.demography\n",
    "    ADD FOREIGN KEY (country_code)\n",
    "    REFERENCES public.country (country_code) MATCH SIMPLE\n",
    "    ON UPDATE NO ACTION\n",
    "    ON DELETE NO ACTION\n",
    "    NOT VALID;\n",
    "\n",
    "\n",
    "ALTER TABLE IF EXISTS public.employment\n",
    "    ADD FOREIGN KEY (country_code)\n",
    "    REFERENCES public.country (country_code) MATCH SIMPLE\n",
    "    ON UPDATE NO ACTION\n",
    "    ON DELETE NO ACTION\n",
    "    NOT VALID;\n",
    "\n",
    "\n",
    "ALTER TABLE IF EXISTS public.education\n",
    "    ADD FOREIGN KEY (country_code)\n",
    "    REFERENCES public.country (country_code) MATCH SIMPLE\n",
    "    ON UPDATE NO ACTION\n",
    "    ON DELETE NO ACTION\n",
    "    NOT VALID;\n",
    "\n",
    "\n",
    "ALTER TABLE IF EXISTS public.economy\n",
    "    ADD FOREIGN KEY (country_code)\n",
    "    REFERENCES public.country (country_code) MATCH SIMPLE\n",
    "    ON UPDATE NO ACTION\n",
    "    ON DELETE NO ACTION\n",
    "    NOT VALID;\n",
    "\n",
    "\n",
    "ALTER TABLE IF EXISTS public.population\n",
    "    ADD FOREIGN KEY (id_demography)\n",
    "    REFERENCES public.demography (id_demography) MATCH SIMPLE\n",
    "    ON UPDATE NO ACTION\n",
    "    ON DELETE NO ACTION\n",
    "    NOT VALID;\n",
    "\n",
    "\n",
    "ALTER TABLE IF EXISTS public.life_expectancy\n",
    "    ADD FOREIGN KEY (id_demography)\n",
    "    REFERENCES public.demography (id_demography) MATCH SIMPLE\n",
    "    ON UPDATE NO ACTION\n",
    "    ON DELETE NO ACTION\n",
    "    NOT VALID;\n",
    "\n",
    "\n",
    "ALTER TABLE IF EXISTS public.health\n",
    "    ADD FOREIGN KEY (country_code)\n",
    "    REFERENCES public.country (country_code) MATCH SIMPLE\n",
    "    ON UPDATE NO ACTION\n",
    "    ON DELETE NO ACTION\n",
    "    NOT VALID;\n",
    "    \"\"\")\n",
    "\n",
    "    conn.commit()\n",
    "    print(\"Tabela recriada do zero!\")\n",
    "\n",
    "except Exception as e:\n",
    "    conn.rollback()\n",
    "    print(f\"Erro: {e}\") "
   ]
  },
  {
   "cell_type": "markdown",
   "id": "86db8f80",
   "metadata": {},
   "source": [
    "# Reativar verificações"
   ]
  },
  {
   "cell_type": "code",
   "execution_count": 481,
   "id": "7e9eec95",
   "metadata": {},
   "outputs": [],
   "source": [
    "cursor.execute(\"SET session_replication_role = 'origin';\")\n",
    "conn.commit()"
   ]
  },
  {
   "cell_type": "markdown",
   "id": "68552963",
   "metadata": {},
   "source": [
    "# Lê o CSV e separa os dados"
   ]
  },
  {
   "cell_type": "code",
   "execution_count": 482,
   "id": "7e4ff4cb",
   "metadata": {},
   "outputs": [],
   "source": [
    "df_poverty = pd.read_csv('/home/victor/Documents/MC356/Postgres-Database-Project-PovertyStudy/processing/poverty_inequality/Poverty_Inequality_filtered.csv')\n",
    "df_indicators = pd.read_csv('/home/victor/Documents/MC356/Postgres-Database-Project-PovertyStudy/processing/global_indicators/Global_Indicators_filtered.csv')\n",
    "\n",
    "df_region = pd.read_csv('/home/victor/Documents/MC356/Postgres-Database-Project-PovertyStudy/processing/poverty_inequality/entities_csv/Region.csv')\n",
    "df_country = pd.read_csv('/home/victor/Documents/MC356/Postgres-Database-Project-PovertyStudy/processing/poverty_inequality/entities_csv/Country.csv')"
   ]
  },
  {
   "cell_type": "markdown",
   "id": "83674d9c",
   "metadata": {},
   "source": [
    "# Divide o DataFrame conforme alguma condição ou seleção de colunas"
   ]
  },
  {
   "cell_type": "code",
   "execution_count": 483,
   "id": "27a7bcae",
   "metadata": {},
   "outputs": [],
   "source": [
    "\n",
    "df_survey = df_poverty[['country_code', 'welfare_type', 'survey_acronym', 'survey_comparability', \n",
    "                'comparable_spell', 'poverty_line', 'headcount', 'poverty_gap', \n",
    "                'poverty_severity', 'gini', 'reporting_pop', 'reporting_pce', \n",
    "                'distribution_type', 'spl', 'survey_year']]  # Para a tabela 'Survey'\n"
   ]
  },
  {
   "cell_type": "markdown",
   "id": "b532f364",
   "metadata": {},
   "source": [
    "# Passo 1: Carregar dados na tabela 'Region'"
   ]
  },
  {
   "cell_type": "code",
   "execution_count": 484,
   "id": "55a154f9",
   "metadata": {},
   "outputs": [
    {
     "name": "stdout",
     "output_type": "stream",
     "text": [
      "Tabela Region populada com sucesso!\n"
     ]
    },
    {
     "data": {
      "text/plain": [
       "'\\n# 7. Testar a consulta CORRETAMENTE (usando aspas)\\ncursor.execute(\\'SELECT * FROM REGION\\')\\nrows = cursor.fetchall()\\nprint(f\"\\nTotal de registros: {len(rows)}\")\\nfor row in rows:\\n    print(row)\\n'"
      ]
     },
     "execution_count": 484,
     "metadata": {},
     "output_type": "execute_result"
    }
   ],
   "source": [
    "\n",
    "# Verificar duplicidade e só inserir valores únicos\n",
    "df_region.drop_duplicates(subset=['region_code'], inplace=True)  # Remover duplicatas por 'region_code'\n",
    "\n",
    "\n",
    "with open('/home/victor/Documents/MC356/Postgres-Database-Project-PovertyStudy/processing/poverty_inequality/entities_csv/Region.csv', 'r') as f:\n",
    "    cursor.copy_expert(\"\"\"\n",
    "        COPY REGION (region_code, region_name)\n",
    "        FROM STDIN\n",
    "        WITH (FORMAT csv, HEADER true, DELIMITER ',');\n",
    "    \"\"\", f)\n",
    "conn.commit()\n",
    "print(\"Tabela Region populada com sucesso!\")\n",
    "\n",
    "'''\n",
    "# 7. Testar a consulta CORRETAMENTE (usando aspas)\n",
    "cursor.execute('SELECT * FROM REGION')\n",
    "rows = cursor.fetchall()\n",
    "print(f\"\\nTotal de registros: {len(rows)}\")\n",
    "for row in rows:\n",
    "    print(row)\n",
    "'''"
   ]
  },
  {
   "cell_type": "markdown",
   "id": "62fab9fc",
   "metadata": {},
   "source": [
    "# Passo 2: Carregar dados na tabela 'Country'"
   ]
  },
  {
   "cell_type": "code",
   "execution_count": 485,
   "id": "1fe1184f",
   "metadata": {},
   "outputs": [
    {
     "name": "stdout",
     "output_type": "stream",
     "text": [
      "Tabela Country populada com sucesso!\n"
     ]
    },
    {
     "data": {
      "text/plain": [
       "'\\n# 7. Testar a consulta CORRETAMENTE (usando aspas)\\ncursor.execute(\\'SELECT * FROM COUNTRY\\')\\nrows = cursor.fetchall()\\nprint(f\"\\nTotal de registros: {len(rows)}\")\\nfor row in rows:\\n    print(row)\\n'"
      ]
     },
     "execution_count": 485,
     "metadata": {},
     "output_type": "execute_result"
    }
   ],
   "source": [
    "\n",
    "with open('/home/victor/Documents/MC356/Postgres-Database-Project-PovertyStudy/processing/poverty_inequality/entities_csv/Country.csv', 'r') as f1: # Pode dar erro com duplicatas\n",
    "    cursor.copy_expert(\"\"\"\n",
    "        COPY COUNTRY (region_code, country_name, country_code)\n",
    "        FROM STDIN\n",
    "        WITH (FORMAT csv, HEADER true, DELIMITER ',');\n",
    "    \"\"\", f1)\n",
    "conn.commit()\n",
    "print(\"Tabela Country populada com sucesso!\")\n",
    "\n",
    "'''\n",
    "# 7. Testar a consulta CORRETAMENTE (usando aspas)\n",
    "cursor.execute('SELECT * FROM COUNTRY')\n",
    "rows = cursor.fetchall()\n",
    "print(f\"\\nTotal de registros: {len(rows)}\")\n",
    "for row in rows:\n",
    "    print(row)\n",
    "'''"
   ]
  },
  {
   "cell_type": "markdown",
   "id": "02157429",
   "metadata": {},
   "source": [
    "# Passo 3: Carregar dados na tabela 'Survey'"
   ]
  },
  {
   "cell_type": "code",
   "execution_count": 486,
   "id": "a04849ea",
   "metadata": {},
   "outputs": [
    {
     "name": "stdout",
     "output_type": "stream",
     "text": [
      "Tabela Survey populada com sucesso!\n"
     ]
    },
    {
     "data": {
      "text/plain": [
       "'\\n# 7. Testar a consulta CORRETAMENTE (usando aspas)\\ncursor.execute(\\'\\'\\'SELECT * FROM SURVEY\\'\\'\\')\\nrows = cursor.fetchall()\\nprint(f\"\\nTotal de registros: {len(rows)}\")\\nfor row in rows:\\n    print(row)\\n'"
      ]
     },
     "execution_count": 486,
     "metadata": {},
     "output_type": "execute_result"
    }
   ],
   "source": [
    "\n",
    "with open('/home/victor/Documents/MC356/Postgres-Database-Project-PovertyStudy/processing/poverty_inequality/entities_csv/Survey.csv', 'r') as f2:\n",
    "    cursor.copy_expert(\"\"\"\n",
    "        COPY SURVEY(country_code, welfare_type, survey_acronym, survey_comparability, \n",
    "                               comparable_spell, poverty_line, headcount, poverty_gap, poverty_severity, \n",
    "                               gini, reporting_pop, reporting_pce, distribution_type, spl, survey_year, survey_coverage, reporting_level)\n",
    "        FROM STDIN\n",
    "        WITH (FORMAT csv, HEADER true, DELIMITER ',')\n",
    "    \"\"\", f2)\n",
    "conn.commit()\n",
    "print(\"Tabela Survey populada com sucesso!\")\n",
    "\n",
    "\"\"\"\n",
    "# 7. Testar a consulta CORRETAMENTE (usando aspas)\n",
    "cursor.execute('''SELECT * FROM SURVEY''')\n",
    "rows = cursor.fetchall()\n",
    "print(f\"\\nTotal de registros: {len(rows)}\")\n",
    "for row in rows:\n",
    "    print(row)\n",
    "\"\"\""
   ]
  },
  {
   "cell_type": "markdown",
   "id": "fb325598",
   "metadata": {},
   "source": [
    "# Passo 4: Carregar dados na tabela 'Decile'"
   ]
  },
  {
   "cell_type": "code",
   "execution_count": 487,
   "id": "d590cfbd",
   "metadata": {},
   "outputs": [
    {
     "data": {
      "text/plain": [
       "'\\n\\n'"
      ]
     },
     "execution_count": 487,
     "metadata": {},
     "output_type": "execute_result"
    }
   ],
   "source": [
    "# Criar uma tabela temporária no banco de dados\n",
    "cursor.execute(\"\"\"\n",
    "    CREATE TEMP TABLE temp_decile (\n",
    "        country_code VARCHAR,\n",
    "        survey_year INTEGER,\n",
    "        survey_acronym VARCHAR,\n",
    "        survey_coverage VARCHAR,\n",
    "        reporting_level VARCHAR,\n",
    "        name VARCHAR,\n",
    "        value DOUBLE PRECISION\n",
    "    );\n",
    "\"\"\")\n",
    "conn.commit()\n",
    "\n",
    "# Carregar o CSV de Decile\n",
    "df_decile = pd.read_csv(\"/home/victor/Documents/MC356/Postgres-Database-Project-PovertyStudy/processing/poverty_inequality/entities_csv/Decile.csv\")\n",
    " \n",
    "# Inserir os dados do DataFrame na tabela temporária\n",
    "for _, row in df_decile.iterrows():\n",
    "    cursor.execute(\"\"\"\n",
    "        INSERT INTO temp_decile (country_code, survey_year, survey_acronym, survey_coverage, reporting_level, name, value)\n",
    "        VALUES (%s, %s, %s, %s, %s, %s, %s);\n",
    "    \"\"\", (row['country_code'], row['survey_year'], row['survey_acronym'], \n",
    "          row['survey_coverage'], row['reporting_level'], row['name'], row['value']))\n",
    "conn.commit()\n",
    "\n",
    "# Inserir os dados na tabela DECILE\n",
    "cursor.execute(\"\"\"\n",
    "    INSERT INTO DECILE (name, value, id_survey)\n",
    "    SELECT\n",
    "        t.name,\n",
    "        t.value,\n",
    "        s.id_survey\n",
    "    FROM\n",
    "        temp_decile t\n",
    "    INNER JOIN\n",
    "        SURVEY s\n",
    "    ON\n",
    "        t.country_code = s.country_code AND \n",
    "        t.survey_year = s.survey_year AND \n",
    "        t.survey_acronym = s.survey_acronym AND\n",
    "        t.survey_coverage = s.survey_coverage AND \n",
    "        t.reporting_level = s.reporting_level;\n",
    "\"\"\")\n",
    "conn.commit()\n",
    "\n",
    "# Remover a tabela temporária\n",
    "cursor.execute(\"DROP TABLE temp_decile;\")\n",
    "conn.commit()\n",
    "\n",
    "'''\n",
    "\n",
    "'''"
   ]
  },
  {
   "cell_type": "markdown",
   "id": "dbf8f855",
   "metadata": {},
   "source": [
    "# Teste"
   ]
  },
  {
   "cell_type": "code",
   "execution_count": 488,
   "id": "7c4b939e",
   "metadata": {},
   "outputs": [
    {
     "name": "stdout",
     "output_type": "stream",
     "text": [
      "('SSA', 'Sub-Saharan Africa')\n",
      "('ECA', 'Europe & Central Asia')\n",
      "('OHI', 'Other High Income Countries')\n",
      "('LAC', 'Latin America & Caribbean')\n",
      "('SAS', 'South Asia')\n",
      "('EAP', 'East Asia & Pacific')\n",
      "('MNA', 'Middle East & North Africa')\n"
     ]
    }
   ],
   "source": [
    "cursor.execute(\"\"\"\n",
    "    SELECT * FROM REGION\n",
    "\"\"\")\n",
    "rows = cursor.fetchall()\n",
    "for row in rows:\n",
    "    print(row)"
   ]
  },
  {
   "cell_type": "markdown",
   "id": "9e5b8a26",
   "metadata": {},
   "source": [
    "# Commit das inserções"
   ]
  },
  {
   "cell_type": "code",
   "execution_count": 489,
   "id": "21e43231",
   "metadata": {},
   "outputs": [],
   "source": [
    "\n",
    "conn.commit()"
   ]
  },
  {
   "cell_type": "markdown",
   "id": "d5378ba7",
   "metadata": {},
   "source": [
    "# Fechar a conexão"
   ]
  },
  {
   "cell_type": "code",
   "execution_count": 490,
   "id": "97509115",
   "metadata": {},
   "outputs": [],
   "source": [
    "\n",
    "cursor.close()\n",
    "conn.close()"
   ]
  }
 ],
 "metadata": {
  "kernelspec": {
   "display_name": ".venv",
   "language": "python",
   "name": "python3"
  },
  "language_info": {
   "codemirror_mode": {
    "name": "ipython",
    "version": 3
   },
   "file_extension": ".py",
   "mimetype": "text/x-python",
   "name": "python",
   "nbconvert_exporter": "python",
   "pygments_lexer": "ipython3",
   "version": "3.12.3"
  }
 },
 "nbformat": 4,
 "nbformat_minor": 5
}
