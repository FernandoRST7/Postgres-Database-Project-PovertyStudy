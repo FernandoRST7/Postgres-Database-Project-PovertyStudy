{
 "cells": [
  {
   "cell_type": "code",
   "execution_count": 63,
   "id": "4eba9882",
   "metadata": {},
   "outputs": [],
   "source": [
    "import psycopg2\n",
    "import pandas as pd"
   ]
  },
  {
   "cell_type": "markdown",
   "id": "2869b1f8",
   "metadata": {},
   "source": [
    "# Conecta com o banco de dados"
   ]
  },
  {
   "cell_type": "code",
   "execution_count": 64,
   "id": "e3734070",
   "metadata": {},
   "outputs": [],
   "source": [
    "conn = psycopg2.connect(\n",
    "    dbname='postgres',\n",
    "    user='postgres',\n",
    "    password='1001',\n",
    "    host='localhost',\n",
    "    port='5432'\n",
    ")"
   ]
  },
  {
   "cell_type": "markdown",
   "id": "bf6fec9c",
   "metadata": {},
   "source": [
    "# Cria o cursor"
   ]
  },
  {
   "cell_type": "code",
   "execution_count": 65,
   "id": "c32bbbb2",
   "metadata": {},
   "outputs": [],
   "source": [
    "\n",
    "cursor = conn.cursor()"
   ]
  },
  {
   "cell_type": "markdown",
   "id": "404b76dc",
   "metadata": {},
   "source": [
    "# Cria tabela no db"
   ]
  },
  {
   "cell_type": "code",
   "execution_count": 66,
   "id": "e42e718b",
   "metadata": {},
   "outputs": [
    {
     "name": "stdout",
     "output_type": "stream",
     "text": [
      "Tabela recriada do zero!\n"
     ]
    }
   ],
   "source": [
    "# Cria tabela no db\n",
    "try:\n",
    "    cursor.execute(\"\"\"\n",
    "                \n",
    "-- Drop existing tables if they exist (optional, for clean runs)\n",
    "-- Use with caution, this will delete all data!\n",
    "DROP TABLE IF EXISTS public.\"Country\" CASCADE;\n",
    "DROP TABLE IF EXISTS public.\"Survey\" CASCADE;\n",
    "DROP TABLE IF EXISTS public.\"Region\" CASCADE; -- Typo matches schema\n",
    "DROP TABLE IF EXISTS public.\"Demography\" CASCADE;\n",
    "DROP TABLE IF EXISTS public.\"Health\" CASCADE;\n",
    "DROP TABLE IF EXISTS public.\"Education\" CASCADE;\n",
    "DROP TABLE IF EXISTS public.\"Economy\" CASCADE;\n",
    "DROP TABLE IF EXISTS public.\"Population\" CASCADE;\n",
    "DROP TABLE IF EXISTS public.\"Employment\" CASCADE;\n",
    "DROP TABLE IF EXISTS public.\"Life Expectancy\" CASCADE;\n",
    "DROP TABLE IF EXISTS public.\"Decile\" CASCADE;\n",
    "\n",
    "CREATE TABLE IF NOT EXISTS public.\"Country\"\n",
    "(\n",
    "    country_code character varying NOT NULL,\n",
    "    country_name character varying,\n",
    "    region_code character varying NOT NULL,\n",
    "    PRIMARY KEY (country_code)\n",
    ");\n",
    "\n",
    "CREATE TABLE IF NOT EXISTS public.\"Survey\"\n",
    "(\n",
    "    id_survey serial NOT NULL,\n",
    "    country_code character varying NOT NULL,\n",
    "    welfare_type character varying,\n",
    "    survey_acronym character varying,\n",
    "    survey_comparability integer,\n",
    "    comparable_spell character varying,\n",
    "    poverty_line double precision,\n",
    "    headcount double precision,\n",
    "    poverty_gap double precision,\n",
    "    poverty_severity double precision,\n",
    "    gini double precision,\n",
    "    reporting_pop integer,\n",
    "    reporting_pce double precision,\n",
    "    distribution_type character varying,\n",
    "    spl double precision,\n",
    "    survey_year integer,\n",
    "    PRIMARY KEY (id_survey)\n",
    ");\n",
    "\n",
    "CREATE TABLE IF NOT EXISTS public.\"Region\"\n",
    "(\n",
    "    region_code character varying NOT NULL,\n",
    "    region_name character varying NOT NULL,\n",
    "    PRIMARY KEY (region_code)\n",
    ");\n",
    "\n",
    "CREATE TABLE IF NOT EXISTS public.\"Decile\"\n",
    "(\n",
    "    id_decile serial NOT NULL,\n",
    "    value double precision,\n",
    "    name character varying,\n",
    "    id_survey integer NOT NULL,\n",
    "    PRIMARY KEY (id_decile)\n",
    ");\n",
    "\n",
    "CREATE TABLE IF NOT EXISTS public.\"Demography\"\n",
    "(\n",
    "    id_demography serial NOT NULL,\n",
    "    year integer,\n",
    "    country_code character varying NOT NULL,\n",
    "    pop_density double precision,\n",
    "    urban_pop double precision,\n",
    "    rural_pop double precision,\n",
    "    net_migration double precision,\n",
    "    death_rate double precision,\n",
    "    birth_rate double precision,\n",
    "    PRIMARY KEY (id_demography)\n",
    ");\n",
    "\n",
    "CREATE TABLE IF NOT EXISTS public.\"Employment\"\n",
    "(\n",
    "    id_employment serial NOT NULL,\n",
    "    year integer,\n",
    "    country_code character varying NOT NULL,\n",
    "    child_emp double precision,\n",
    "    unemp double precision,\n",
    "    vulnerable_emp double precision,\n",
    "    part_time double precision,\n",
    "    employers double precision,\n",
    "    labor_force_total double precision,\n",
    "    labor_force_fem double precision,\n",
    "    PRIMARY KEY (id_employment)\n",
    ");\n",
    "\n",
    "CREATE TABLE IF NOT EXISTS public.\"Education\"\n",
    "(\n",
    "    id_education serial NOT NULL,\n",
    "    year integer,\n",
    "    country_code character varying NOT NULL,\n",
    "    child_out_of_school double precision,\n",
    "    progression_to_sec double precision,\n",
    "    expenditure double precision,\n",
    "    preprim_enroll double precision,\n",
    "    prim_enrol double precision,\n",
    "    sec_enrol double precision,\n",
    "    terti_enrol double precision,\n",
    "    PRIMARY KEY (id_education)\n",
    ");\n",
    "\n",
    "CREATE TABLE IF NOT EXISTS public.\"Economy\"\n",
    "(\n",
    "    id_economy serial NOT NULL,\n",
    "    year integer,\n",
    "    country_code character varying NOT NULL,\n",
    "    gdp double precision,\n",
    "    inflation double precision,\n",
    "    tax_revenue double precision,\n",
    "    PRIMARY KEY (id_economy)\n",
    ");\n",
    "\n",
    "CREATE TABLE IF NOT EXISTS public.\"Population\"\n",
    "(\n",
    "    id_population serial NOT NULL,\n",
    "    id_demography integer NOT NULL,\n",
    "    pop_ages character varying,\n",
    "    gender character varying,\n",
    "    \"number\" double precision,\n",
    "    PRIMARY KEY (id_population)\n",
    ");\n",
    "\n",
    "CREATE TABLE IF NOT EXISTS public.\"Life Expectancy\"\n",
    "(\n",
    "    id_life_expectancy serial NOT NULL,\n",
    "    id_demography integer NOT NULL,\n",
    "    gender character varying,\n",
    "    value double precision,\n",
    "    PRIMARY KEY (id_life_expectancy)\n",
    ");\n",
    "\n",
    "CREATE TABLE IF NOT EXISTS public.\"Health\"\n",
    "(\n",
    "    id_health serial NOT NULL,\n",
    "    country_code character varying NOT NULL,\n",
    "    year integer,\n",
    "    hospital_beds double precision,\n",
    "    physicians double precision,\n",
    "    expenditure double precision,\n",
    "    PRIMARY KEY (id_health)\n",
    ");\n",
    "\n",
    "ALTER TABLE IF EXISTS public.\"Country\"\n",
    "    ADD FOREIGN KEY (region_code)\n",
    "    REFERENCES public.\"Region\" (region_code) MATCH SIMPLE\n",
    "    ON UPDATE NO ACTION\n",
    "    ON DELETE NO ACTION\n",
    "    NOT VALID;\n",
    "\n",
    "\n",
    "ALTER TABLE IF EXISTS public.\"Survey\"\n",
    "    ADD FOREIGN KEY (country_code)\n",
    "    REFERENCES public.\"Country\" (country_code) MATCH SIMPLE\n",
    "    ON UPDATE NO ACTION\n",
    "    ON DELETE NO ACTION\n",
    "    NOT VALID;\n",
    "\n",
    "\n",
    "ALTER TABLE IF EXISTS public.\"Decile\"\n",
    "    ADD FOREIGN KEY (id_survey)\n",
    "    REFERENCES public.\"Survey\" (id_survey) MATCH SIMPLE\n",
    "    ON UPDATE NO ACTION\n",
    "    ON DELETE NO ACTION\n",
    "    NOT VALID;\n",
    "\n",
    "\n",
    "ALTER TABLE IF EXISTS public.\"Demography\"\n",
    "    ADD FOREIGN KEY (country_code)\n",
    "    REFERENCES public.\"Country\" (country_code) MATCH SIMPLE\n",
    "    ON UPDATE NO ACTION\n",
    "    ON DELETE NO ACTION\n",
    "    NOT VALID;\n",
    "\n",
    "\n",
    "ALTER TABLE IF EXISTS public.\"Employment\"\n",
    "    ADD FOREIGN KEY (country_code)\n",
    "    REFERENCES public.\"Country\" (country_code) MATCH SIMPLE\n",
    "    ON UPDATE NO ACTION\n",
    "    ON DELETE NO ACTION\n",
    "    NOT VALID;\n",
    "\n",
    "\n",
    "ALTER TABLE IF EXISTS public.\"Education\"\n",
    "    ADD FOREIGN KEY (country_code)\n",
    "    REFERENCES public.\"Country\" (country_code) MATCH SIMPLE\n",
    "    ON UPDATE NO ACTION\n",
    "    ON DELETE NO ACTION\n",
    "    NOT VALID;\n",
    "\n",
    "\n",
    "ALTER TABLE IF EXISTS public.\"Economy\"\n",
    "    ADD FOREIGN KEY (country_code)\n",
    "    REFERENCES public.\"Country\" (country_code) MATCH SIMPLE\n",
    "    ON UPDATE NO ACTION\n",
    "    ON DELETE NO ACTION\n",
    "    NOT VALID;\n",
    "\n",
    "\n",
    "ALTER TABLE IF EXISTS public.\"Population\"\n",
    "    ADD FOREIGN KEY (id_demography)\n",
    "    REFERENCES public.\"Demography\" (id_demography) MATCH SIMPLE\n",
    "    ON UPDATE NO ACTION\n",
    "    ON DELETE NO ACTION\n",
    "    NOT VALID;\n",
    "\n",
    "\n",
    "ALTER TABLE IF EXISTS public.\"Life Expectancy\"\n",
    "    ADD FOREIGN KEY (id_demography)\n",
    "    REFERENCES public.\"Demography\" (id_demography) MATCH SIMPLE\n",
    "    ON UPDATE NO ACTION\n",
    "    ON DELETE NO ACTION\n",
    "    NOT VALID;\n",
    "\n",
    "\n",
    "ALTER TABLE IF EXISTS public.\"Health\"\n",
    "    ADD FOREIGN KEY (country_code)\n",
    "    REFERENCES public.\"Country\" (country_code) MATCH SIMPLE\n",
    "    ON UPDATE NO ACTION\n",
    "    ON DELETE NO ACTION\n",
    "    NOT VALID;\n",
    "    \"\"\")\n",
    "\n",
    "    conn.commit()\n",
    "    print(\"Tabela recriada do zero!\")\n",
    "\n",
    "except Exception as e:\n",
    "    conn.rollback()\n",
    "    print(f\"Erro: {e}\") "
   ]
  },
  {
   "cell_type": "markdown",
   "id": "86db8f80",
   "metadata": {},
   "source": [
    "# Reativar verificações"
   ]
  },
  {
   "cell_type": "code",
   "execution_count": 67,
   "id": "7e9eec95",
   "metadata": {},
   "outputs": [],
   "source": [
    "cursor.execute(\"SET session_replication_role = 'origin';\")\n",
    "conn.commit()"
   ]
  },
  {
   "cell_type": "markdown",
   "id": "68552963",
   "metadata": {},
   "source": [
    "# Lê o CSV e separa os dados"
   ]
  },
  {
   "cell_type": "code",
   "execution_count": 68,
   "id": "7e4ff4cb",
   "metadata": {},
   "outputs": [],
   "source": [
    "df_poverty = pd.read_csv('/home/victor/Documents/MC356/Postgres-Database-Project-PovertyStudy/processing/poverty_inequality/Poverty_Inequality_filtered.csv')\n",
    "df_indicators = pd.read_csv('/home/victor/Documents/MC356/Postgres-Database-Project-PovertyStudy/processing/global_indicators/Global_Indicators_filtered.csv')\n",
    "\n",
    "df_region = pd.read_csv('/home/victor/Documents/MC356/Postgres-Database-Project-PovertyStudy/processing/poverty_inequality/entities_csv/Region.csv')\n",
    "df_country = pd.read_csv('/home/victor/Documents/MC356/Postgres-Database-Project-PovertyStudy/processing/poverty_inequality/entities_csv/Country.csv')"
   ]
  },
  {
   "cell_type": "markdown",
   "id": "83674d9c",
   "metadata": {},
   "source": [
    "# Divide o DataFrame conforme alguma condição ou seleção de colunas"
   ]
  },
  {
   "cell_type": "code",
   "execution_count": 69,
   "id": "27a7bcae",
   "metadata": {},
   "outputs": [],
   "source": [
    "\n",
    "df_survey = df_poverty[['country_code', 'welfare_type', 'survey_acronym', 'survey_comparability', \n",
    "                'comparable_spell', 'poverty_line', 'headcount', 'poverty_gap', \n",
    "                'poverty_severity', 'gini', 'reporting_pop', 'reporting_pce', \n",
    "                'distribution_type', 'spl', 'survey_year']]  # Para a tabela 'Survey'\n"
   ]
  },
  {
   "cell_type": "markdown",
   "id": "b532f364",
   "metadata": {},
   "source": [
    "# Passo 1: Carregar dados na tabela 'Region'"
   ]
  },
  {
   "cell_type": "code",
   "execution_count": 70,
   "id": "55a154f9",
   "metadata": {},
   "outputs": [
    {
     "name": "stdout",
     "output_type": "stream",
     "text": [
      "Tabela Region populada com sucesso!\n"
     ]
    },
    {
     "data": {
      "text/plain": [
       "'\\n# 7. Testar a consulta CORRETAMENTE (usando aspas)\\ncursor.execute(\\'SELECT * FROM public.\"Region\"\\')\\nrows = cursor.fetchall()\\nprint(f\"\\nTotal de registros: {len(rows)}\")\\nfor row in rows:\\n    print(row)\\n'"
      ]
     },
     "execution_count": 70,
     "metadata": {},
     "output_type": "execute_result"
    }
   ],
   "source": [
    "\n",
    "# Verificar duplicidade e só inserir valores únicos\n",
    "df_region.drop_duplicates(subset=['region_code'], inplace=True)  # Remover duplicatas por 'region_code'\n",
    "\n",
    "\n",
    "with open('/home/victor/Documents/MC356/Postgres-Database-Project-PovertyStudy/processing/poverty_inequality/entities_csv/Region.csv', 'r') as f:\n",
    "    cursor.copy_expert(\"\"\"\n",
    "        COPY public.\"Region\" (region_code, region_name)\n",
    "        FROM STDIN\n",
    "        WITH (FORMAT csv, HEADER true, DELIMITER ',');\n",
    "    \"\"\", f)\n",
    "conn.commit()\n",
    "print(\"Tabela Region populada com sucesso!\")\n",
    "\n",
    "\"\"\"\n",
    "# 7. Testar a consulta CORRETAMENTE (usando aspas)\n",
    "cursor.execute('SELECT * FROM public.\"Region\"')\n",
    "rows = cursor.fetchall()\n",
    "print(f\"\\nTotal de registros: {len(rows)}\")\n",
    "for row in rows:\n",
    "    print(row)\n",
    "\"\"\""
   ]
  },
  {
   "cell_type": "markdown",
   "id": "62fab9fc",
   "metadata": {},
   "source": [
    "# Passo 2: Carregar dados na tabela 'Country'"
   ]
  },
  {
   "cell_type": "code",
   "execution_count": 71,
   "id": "1fe1184f",
   "metadata": {},
   "outputs": [],
   "source": [
    "\n",
    "# Verificar duplicidade e só inserir valores únicos\n",
    "\n",
    "with open('/home/victor/Documents/MC356/Postgres-Database-Project-PovertyStudy/processing/poverty_inequality/entities_csv/Country.csv', 'r') as f1: # Pode dar erro com duplicatas\n",
    "    cursor.copy_expert(\"\"\"\n",
    "        COPY public.\"Country\" (region_code, country_name, country_code)\n",
    "        FROM STDIN\n",
    "        WITH (FORMAT csv, HEADER true, DELIMITER ',');\n",
    "    \"\"\", f1)"
   ]
  },
  {
   "cell_type": "markdown",
   "id": "02157429",
   "metadata": {},
   "source": [
    "# Passo 3: Carregar dados na tabela 'Survey'"
   ]
  },
  {
   "cell_type": "code",
   "execution_count": 72,
   "id": "a04849ea",
   "metadata": {},
   "outputs": [],
   "source": [
    "\n",
    "with open('/home/victor/Documents/MC356/Postgres-Database-Project-PovertyStudy/Poverty_Inequality_filtered_survey.csv', 'w') as f2:\n",
    "    df_survey.to_csv(f2, index=False)\n",
    "\n",
    "with open('/home/victor/Documents/MC356/Postgres-Database-Project-PovertyStudy/Poverty_Inequality_filtered_survey.csv', 'r') as f2:\n",
    "    cursor.copy_expert(\"\"\"\n",
    "        COPY public.\"Survey\" (country_code, welfare_type, survey_acronym, survey_comparability, \n",
    "                               comparable_spell, poverty_line, headcount, poverty_gap, poverty_severity, \n",
    "                               gini, reporting_pop, reporting_pce, distribution_type, spl, survey_year)\n",
    "        FROM STDIN\n",
    "        WITH (FORMAT csv, HEADER true, DELIMITER ',')\n",
    "    \"\"\", f2)\n"
   ]
  },
  {
   "cell_type": "code",
   "execution_count": 73,
   "id": "1e8e71ac",
   "metadata": {},
   "outputs": [
    {
     "name": "stdout",
     "output_type": "stream",
     "text": [
      "Erro ao inserir: relation \"region\" does not exist\n",
      "LINE 2:     INSERT INTO Region (region_code, region_name)\n",
      "                        ^\n",
      "\n"
     ]
    }
   ],
   "source": [
    "# Query de INSERT na tabela REGION\n",
    "insert_query = \"\"\"\n",
    "    INSERT INTO Region (region_code, region_name)\n",
    "    VALUES (%s, %s)\n",
    "\"\"\"\n",
    "dados = (\"REG\", \"Pedro\")\n",
    "\n",
    "try:\n",
    "    cursor.execute(insert_query, dados)\n",
    "    conn.commit()  # Confirma a transação\n",
    "    print(\"Dados inseridos com sucesso!\")\n",
    "except Exception as e:\n",
    "    conn.rollback()  # Desfaz em caso de erro\n",
    "    print(f\"Erro ao inserir: {e}\")\n"
   ]
  },
  {
   "cell_type": "markdown",
   "id": "dbf8f855",
   "metadata": {},
   "source": [
    "# Teste"
   ]
  },
  {
   "cell_type": "code",
   "execution_count": 74,
   "id": "7c4b939e",
   "metadata": {},
   "outputs": [
    {
     "name": "stdout",
     "output_type": "stream",
     "text": [
      "('SSA', 'Sub-Saharan Africa')\n",
      "('ECA', 'Europe & Central Asia')\n",
      "('OHI', 'Other High Income Countries')\n",
      "('LAC', 'Latin America & Caribbean')\n",
      "('SAS', 'South Asia')\n",
      "('EAP', 'East Asia & Pacific')\n",
      "('MNA', 'Middle East & North Africa')\n"
     ]
    }
   ],
   "source": [
    "cursor.execute(\"\"\"\n",
    "    SELECT * FROM \"Region\"\n",
    "\"\"\")\n",
    "rows = cursor.fetchall()\n",
    "for row in rows:\n",
    "    print(row)"
   ]
  },
  {
   "cell_type": "markdown",
   "id": "9e5b8a26",
   "metadata": {},
   "source": [
    "# Commit das inserções"
   ]
  },
  {
   "cell_type": "code",
   "execution_count": 75,
   "id": "21e43231",
   "metadata": {},
   "outputs": [],
   "source": [
    "\n",
    "conn.commit()"
   ]
  },
  {
   "cell_type": "markdown",
   "id": "d5378ba7",
   "metadata": {},
   "source": [
    "# Fechar a conexão"
   ]
  },
  {
   "cell_type": "code",
   "execution_count": 76,
   "id": "97509115",
   "metadata": {},
   "outputs": [],
   "source": [
    "\n",
    "cursor.close()\n",
    "conn.close()"
   ]
  }
 ],
 "metadata": {
  "kernelspec": {
   "display_name": ".venv",
   "language": "python",
   "name": "python3"
  },
  "language_info": {
   "codemirror_mode": {
    "name": "ipython",
    "version": 3
   },
   "file_extension": ".py",
   "mimetype": "text/x-python",
   "name": "python",
   "nbconvert_exporter": "python",
   "pygments_lexer": "ipython3",
   "version": "3.12.3"
  }
 },
 "nbformat": 4,
 "nbformat_minor": 5
}
